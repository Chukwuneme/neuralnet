{
 "cells": [
  {
   "cell_type": "code",
   "execution_count": 1,
   "id": "d03ab9aa",
   "metadata": {},
   "outputs": [],
   "source": [
    "import numpy as np\n",
    "from keras.models import Sequential\n",
    "from keras.layers import Dense, Activation\n",
    "import pandas as pd\n",
    "from sklearn.datasets import load_iris"
   ]
  },
  {
   "cell_type": "code",
   "execution_count": 2,
   "id": "9095de0e",
   "metadata": {},
   "outputs": [],
   "source": [
    "data = load_iris()\n",
    "features = data.data\n",
    "target = data.target"
   ]
  },
  {
   "cell_type": "code",
   "execution_count": 3,
   "id": "c21e8c73",
   "metadata": {},
   "outputs": [],
   "source": [
    "from sklearn.preprocessing import MinMaxScaler"
   ]
  },
  {
   "cell_type": "code",
   "execution_count": 4,
   "id": "86d71079",
   "metadata": {},
   "outputs": [],
   "source": [
    "mms = MinMaxScaler()\n",
    "features = mms.fit_transform(features)"
   ]
  },
  {
   "cell_type": "code",
   "execution_count": 5,
   "id": "9b9bebf4",
   "metadata": {},
   "outputs": [],
   "source": [
    "from keras.utils.np_utils import to_categorical"
   ]
  },
  {
   "cell_type": "code",
   "execution_count": 6,
   "id": "a2c80b20",
   "metadata": {},
   "outputs": [
    {
     "data": {
      "text/plain": [
       "(150, 3)"
      ]
     },
     "execution_count": 6,
     "metadata": {},
     "output_type": "execute_result"
    }
   ],
   "source": [
    "target = to_categorical(target)\n",
    "target.shape"
   ]
  },
  {
   "cell_type": "code",
   "execution_count": 7,
   "id": "ccf11803",
   "metadata": {},
   "outputs": [
    {
     "data": {
      "text/plain": [
       "(38, 3)"
      ]
     },
     "execution_count": 7,
     "metadata": {},
     "output_type": "execute_result"
    }
   ],
   "source": [
    "from sklearn.model_selection import train_test_split \n",
    "xtrain, xtest, ytrain, ytest = train_test_split(features, target, random_state = 2)\n",
    "ytest.shape"
   ]
  },
  {
   "cell_type": "code",
   "execution_count": 8,
   "id": "b0a28183",
   "metadata": {},
   "outputs": [],
   "source": [
    "model = Sequential()\n",
    "model.add(Dense(100, input_dim = 4, activation = \"relu\"))\n",
    "model.add(Dense(60, activation = \"relu\"))\n",
    "model.add(Dense(3, activation = \"softmax\"))"
   ]
  },
  {
   "cell_type": "code",
   "execution_count": 9,
   "id": "50d18af4",
   "metadata": {},
   "outputs": [],
   "source": [
    "model.compile(optimizer = \"Adam\", loss = \"binary_crossentropy\", metrics = [\"accuracy\"])"
   ]
  },
  {
   "cell_type": "code",
   "execution_count": 10,
   "id": "f19ed211",
   "metadata": {
    "scrolled": true
   },
   "outputs": [
    {
     "name": "stderr",
     "output_type": "stream",
     "text": [
      "native : compiler/mlir/mlir_graph_optimization_pass.cc:185 None of the MLIR Optimization Passes are enabled (registered 2)\n"
     ]
    },
    {
     "name": "stdout",
     "output_type": "stream",
     "text": [
      "Epoch 1/50\n",
      "4/4 [==============================] - 2s 153ms/step - loss: 0.7037 - accuracy: 0.0804 - val_loss: 0.6893 - val_accuracy: 0.2368\n",
      "Epoch 2/50\n",
      "4/4 [==============================] - 0s 36ms/step - loss: 0.6810 - accuracy: 0.4464 - val_loss: 0.6708 - val_accuracy: 0.7105\n",
      "Epoch 3/50\n",
      "4/4 [==============================] - 0s 36ms/step - loss: 0.6632 - accuracy: 0.6518 - val_loss: 0.6539 - val_accuracy: 0.7105\n",
      "Epoch 4/50\n",
      "4/4 [==============================] - 0s 29ms/step - loss: 0.6469 - accuracy: 0.6518 - val_loss: 0.6376 - val_accuracy: 0.7105\n",
      "Epoch 5/50\n",
      "4/4 [==============================] - 0s 48ms/step - loss: 0.6313 - accuracy: 0.6518 - val_loss: 0.6216 - val_accuracy: 0.7105\n",
      "Epoch 6/50\n",
      "4/4 [==============================] - 0s 38ms/step - loss: 0.6159 - accuracy: 0.6518 - val_loss: 0.6061 - val_accuracy: 0.7105\n",
      "Epoch 7/50\n",
      "4/4 [==============================] - 0s 49ms/step - loss: 0.6009 - accuracy: 0.6518 - val_loss: 0.5904 - val_accuracy: 0.7105\n",
      "Epoch 8/50\n",
      "4/4 [==============================] - 0s 37ms/step - loss: 0.5858 - accuracy: 0.6518 - val_loss: 0.5751 - val_accuracy: 0.7105\n",
      "Epoch 9/50\n",
      "4/4 [==============================] - 0s 36ms/step - loss: 0.5710 - accuracy: 0.6518 - val_loss: 0.5600 - val_accuracy: 0.7105\n",
      "Epoch 10/50\n",
      "4/4 [==============================] - 0s 47ms/step - loss: 0.5557 - accuracy: 0.6518 - val_loss: 0.5440 - val_accuracy: 0.7105\n",
      "Epoch 11/50\n",
      "4/4 [==============================] - 0s 41ms/step - loss: 0.5405 - accuracy: 0.6518 - val_loss: 0.5273 - val_accuracy: 0.7105\n",
      "Epoch 12/50\n",
      "4/4 [==============================] - 0s 44ms/step - loss: 0.5245 - accuracy: 0.6518 - val_loss: 0.5102 - val_accuracy: 0.7105\n",
      "Epoch 13/50\n",
      "4/4 [==============================] - 0s 51ms/step - loss: 0.5083 - accuracy: 0.6518 - val_loss: 0.4921 - val_accuracy: 0.7105\n",
      "Epoch 14/50\n",
      "4/4 [==============================] - 0s 37ms/step - loss: 0.4922 - accuracy: 0.6518 - val_loss: 0.4740 - val_accuracy: 0.7105\n",
      "Epoch 15/50\n",
      "4/4 [==============================] - 0s 47ms/step - loss: 0.4747 - accuracy: 0.6518 - val_loss: 0.4564 - val_accuracy: 0.7105\n",
      "Epoch 16/50\n",
      "4/4 [==============================] - 0s 39ms/step - loss: 0.4587 - accuracy: 0.6518 - val_loss: 0.4382 - val_accuracy: 0.7105\n",
      "Epoch 17/50\n",
      "4/4 [==============================] - 0s 44ms/step - loss: 0.4422 - accuracy: 0.6518 - val_loss: 0.4198 - val_accuracy: 0.7105\n",
      "Epoch 18/50\n",
      "4/4 [==============================] - 0s 40ms/step - loss: 0.4258 - accuracy: 0.6518 - val_loss: 0.4020 - val_accuracy: 0.7105\n",
      "Epoch 19/50\n",
      "4/4 [==============================] - 0s 55ms/step - loss: 0.4109 - accuracy: 0.6518 - val_loss: 0.3848 - val_accuracy: 0.7105\n",
      "Epoch 20/50\n",
      "4/4 [==============================] - 0s 43ms/step - loss: 0.3963 - accuracy: 0.6518 - val_loss: 0.3684 - val_accuracy: 0.7105\n",
      "Epoch 21/50\n",
      "4/4 [==============================] - 0s 36ms/step - loss: 0.3824 - accuracy: 0.6518 - val_loss: 0.3536 - val_accuracy: 0.7105\n",
      "Epoch 22/50\n",
      "4/4 [==============================] - 0s 44ms/step - loss: 0.3702 - accuracy: 0.6518 - val_loss: 0.3403 - val_accuracy: 0.7105\n",
      "Epoch 23/50\n",
      "4/4 [==============================] - 0s 43ms/step - loss: 0.3593 - accuracy: 0.6518 - val_loss: 0.3281 - val_accuracy: 0.7105\n",
      "Epoch 24/50\n",
      "4/4 [==============================] - 0s 46ms/step - loss: 0.3494 - accuracy: 0.6518 - val_loss: 0.3177 - val_accuracy: 0.7105\n",
      "Epoch 25/50\n",
      "4/4 [==============================] - 0s 44ms/step - loss: 0.3408 - accuracy: 0.6518 - val_loss: 0.3081 - val_accuracy: 0.7105\n",
      "Epoch 26/50\n",
      "4/4 [==============================] - 0s 53ms/step - loss: 0.3334 - accuracy: 0.6518 - val_loss: 0.2990 - val_accuracy: 0.7105\n",
      "Epoch 27/50\n",
      "4/4 [==============================] - 0s 47ms/step - loss: 0.3255 - accuracy: 0.6875 - val_loss: 0.2915 - val_accuracy: 0.7105\n",
      "Epoch 28/50\n",
      "4/4 [==============================] - 0s 35ms/step - loss: 0.3187 - accuracy: 0.7143 - val_loss: 0.2847 - val_accuracy: 0.7368\n",
      "Epoch 29/50\n",
      "4/4 [==============================] - 0s 49ms/step - loss: 0.3128 - accuracy: 0.7143 - val_loss: 0.2783 - val_accuracy: 0.7632\n",
      "Epoch 30/50\n",
      "4/4 [==============================] - 0s 47ms/step - loss: 0.3072 - accuracy: 0.7589 - val_loss: 0.2725 - val_accuracy: 0.8158\n",
      "Epoch 31/50\n",
      "4/4 [==============================] - 0s 50ms/step - loss: 0.3018 - accuracy: 0.7857 - val_loss: 0.2672 - val_accuracy: 0.8158\n",
      "Epoch 32/50\n",
      "4/4 [==============================] - 0s 36ms/step - loss: 0.2966 - accuracy: 0.8036 - val_loss: 0.2620 - val_accuracy: 0.8158\n",
      "Epoch 33/50\n",
      "4/4 [==============================] - 0s 36ms/step - loss: 0.2921 - accuracy: 0.8571 - val_loss: 0.2571 - val_accuracy: 0.8947\n",
      "Epoch 34/50\n",
      "4/4 [==============================] - 0s 37ms/step - loss: 0.2875 - accuracy: 0.8661 - val_loss: 0.2529 - val_accuracy: 0.8684\n",
      "Epoch 35/50\n",
      "4/4 [==============================] - 0s 36ms/step - loss: 0.2822 - accuracy: 0.8839 - val_loss: 0.2483 - val_accuracy: 0.8947\n",
      "Epoch 36/50\n",
      "4/4 [==============================] - 0s 38ms/step - loss: 0.2775 - accuracy: 0.9018 - val_loss: 0.2438 - val_accuracy: 0.8947\n",
      "Epoch 37/50\n",
      "4/4 [==============================] - 0s 35ms/step - loss: 0.2733 - accuracy: 0.9107 - val_loss: 0.2394 - val_accuracy: 0.8947\n",
      "Epoch 38/50\n",
      "4/4 [==============================] - 0s 34ms/step - loss: 0.2684 - accuracy: 0.9286 - val_loss: 0.2353 - val_accuracy: 0.8947\n",
      "Epoch 39/50\n",
      "4/4 [==============================] - 0s 33ms/step - loss: 0.2638 - accuracy: 0.9375 - val_loss: 0.2312 - val_accuracy: 0.9211\n",
      "Epoch 40/50\n",
      "4/4 [==============================] - 0s 34ms/step - loss: 0.2592 - accuracy: 0.9286 - val_loss: 0.2272 - val_accuracy: 0.9211\n",
      "Epoch 41/50\n",
      "4/4 [==============================] - 0s 47ms/step - loss: 0.2546 - accuracy: 0.9464 - val_loss: 0.2229 - val_accuracy: 0.9211\n",
      "Epoch 42/50\n",
      "4/4 [==============================] - 0s 32ms/step - loss: 0.2504 - accuracy: 0.9554 - val_loss: 0.2188 - val_accuracy: 0.9211\n",
      "Epoch 43/50\n",
      "4/4 [==============================] - 0s 36ms/step - loss: 0.2452 - accuracy: 0.9643 - val_loss: 0.2146 - val_accuracy: 0.9211\n",
      "Epoch 44/50\n",
      "4/4 [==============================] - 0s 29ms/step - loss: 0.2398 - accuracy: 0.9643 - val_loss: 0.2107 - val_accuracy: 0.9211\n",
      "Epoch 45/50\n",
      "4/4 [==============================] - 0s 26ms/step - loss: 0.2357 - accuracy: 0.9554 - val_loss: 0.2079 - val_accuracy: 0.9211\n",
      "Epoch 46/50\n",
      "4/4 [==============================] - 0s 49ms/step - loss: 0.2308 - accuracy: 0.9464 - val_loss: 0.2028 - val_accuracy: 0.9211\n",
      "Epoch 47/50\n",
      "4/4 [==============================] - 0s 39ms/step - loss: 0.2253 - accuracy: 0.9643 - val_loss: 0.1982 - val_accuracy: 0.9211\n",
      "Epoch 48/50\n",
      "4/4 [==============================] - 0s 39ms/step - loss: 0.2203 - accuracy: 0.9732 - val_loss: 0.1939 - val_accuracy: 0.9474\n",
      "Epoch 49/50\n",
      "4/4 [==============================] - 0s 45ms/step - loss: 0.2157 - accuracy: 0.9732 - val_loss: 0.1898 - val_accuracy: 0.9474\n",
      "Epoch 50/50\n",
      "4/4 [==============================] - 0s 37ms/step - loss: 0.2104 - accuracy: 0.9732 - val_loss: 0.1859 - val_accuracy: 0.9474\n"
     ]
    }
   ],
   "source": [
    "history = model.fit(xtrain, ytrain, batch_size = 30, epochs = 50, validation_data = (xtest, ytest))"
   ]
  },
  {
   "cell_type": "code",
   "execution_count": 11,
   "id": "78618552",
   "metadata": {},
   "outputs": [
    {
     "name": "stdout",
     "output_type": "stream",
     "text": [
      "2/2 [==============================] - 0s 12ms/step - loss: 0.1859 - accuracy: 0.9474\n"
     ]
    }
   ],
   "source": [
    "results = model.evaluate(xtest, ytest)"
   ]
  },
  {
   "cell_type": "code",
   "execution_count": 12,
   "id": "3efb5821",
   "metadata": {},
   "outputs": [
    {
     "name": "stdout",
     "output_type": "stream",
     "text": [
      "loss :  0.18585212528705597\n",
      "accuracy :  0.9473684430122375\n"
     ]
    }
   ],
   "source": [
    "for a, b in zip(model.metrics_names, results):\n",
    "    print(a, \": \", b)"
   ]
  },
  {
   "cell_type": "code",
   "execution_count": 13,
   "id": "f0431045",
   "metadata": {},
   "outputs": [
    {
     "data": {
      "image/png": "[encoded data removed]",
      "text/plain": [
       "<Figure size 432x288 with 1 Axes>"
      ]
     },
     "metadata": {
      "needs_background": "light"
     },
     "output_type": "display_data"
    }
   ],
   "source": [
    "import matplotlib.pyplot as plt\n",
    "%matplotlib inline\n",
    "plt.plot(history.history[\"loss\"])\n",
    "plt.plot(history.history[\"val_loss\"])\n",
    "plt.legend([\"loss\", \"val_loss\"])\n",
    "plt.show()"
   ]
  },
  {
   "cell_type": "code",
   "execution_count": 14,
   "id": "ebb69ad8",
   "metadata": {},
   "outputs": [
    {
     "data": {
      "image/png": "[encoded data removed]",
      "text/plain": [
       "<Figure size 432x288 with 1 Axes>"
      ]
     },
     "metadata": {
      "needs_background": "light"
     },
     "output_type": "display_data"
    }
   ],
   "source": [
    "import matplotlib.pyplot as plt\n",
    "%matplotlib inline\n",
    "plt.plot(history.history[\"accuracy\"])\n",
    "plt.plot(history.history[\"val_accuracy\"])\n",
    "plt.legend([\"accuracy\", \"val_accuracy\"])\n",
    "plt.show()"
   ]
  },
  {
   "cell_type": "code",
   "execution_count": 15,
   "id": "992ccb41",
   "metadata": {},
   "outputs": [],
   "source": [
    "model.save(\"iris_classification_model.h5\")"
   ]
  },
  {
   "cell_type": "code",
   "execution_count": 16,
   "id": "69ec4ac7",
   "metadata": {},
   "outputs": [],
   "source": [
    "pred = model.predict(xtest)"
   ]
  },
  {
   "cell_type": "code",
   "execution_count": 22,
   "id": "487901b1",
   "metadata": {},
   "outputs": [
    {
     "data": {
      "image/png": "[encoded data removed]",
      "text/plain": [
       "<Figure size 432x288 with 1 Axes>"
      ]
     },
     "metadata": {
      "needs_background": "light"
     },
     "output_type": "display_data"
    }
   ],
   "source": [
    "plt.hist(ytest)\n",
    "plt.show()"
   ]
  },
  {
   "cell_type": "code",
   "execution_count": 19,
   "id": "64bae66e",
   "metadata": {},
   "outputs": [
    {
     "data": {
      "image/png": "[encoded data removed]",
      "text/plain": [
       "<Figure size 432x288 with 1 Axes>"
      ]
     },
     "metadata": {
      "needs_background": "light"
     },
     "output_type": "display_data"
    }
   ],
   "source": [
    "plt.hist(pred)\n",
    "plt.show()"
   ]
  },
  {
   "cell_type": "code",
   "execution_count": null,
   "id": "a0c99940",
   "metadata": {},
   "outputs": [],
   "source": []
  }
 ],
 "metadata": {
  "kernelspec": {
   "display_name": "Python 3 (ipykernel)",
   "language": "python",
   "name": "python3"
  },
  "language_info": {
   "codemirror_mode": {
    "name": "ipython",
    "version": 3
   },
   "file_extension": ".py",
   "mimetype": "text/x-python",
   "name": "python",
   "nbconvert_exporter": "python",
   "pygments_lexer": "ipython3",
   "version": "3.9.7"
  }
 },
 "nbformat": 4,
 "nbformat_minor": 5
}
